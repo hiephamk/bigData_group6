{
 "cells": [
  {
   "cell_type": "markdown",
   "id": "183ac88d",
   "metadata": {},
   "source": [
    "# 🧪 Group6_Project: California Google Local Business Analysis with PyMongo + Spark\n",
    "This lab simulates a real-world big data pipeline using **MongoDB**, **PySpark**, and the **California Google Local Business Dataset**.\n",
    "We'll:\n",
    "- Insert data into MongoDB from JSON\n",
    "- Load that data into Spark\n",
    "- Perform analysis\n",
    "- Save results back to MongoDB\n"
   ]
  },
  {
   "cell_type": "markdown",
   "id": "4d5ea6e3",
   "metadata": {},
   "source": [
    "## 📥 Step 1: Insert Google Local Data into MongoDB"
   ]
  },
  {
   "cell_type": "code",
   "execution_count": 25,
   "id": "72ebc3f6",
   "metadata": {},
   "outputs": [
    {
     "name": "stdout",
     "output_type": "stream",
     "text": [
      "✅ Inserted 1000 meta\n",
      "✅ Inserted 5000 reviews\n"
     ]
    }
   ],
   "source": [
    "import json\n",
    "from pymongo import MongoClient\n",
    "from pyspark.sql.functions import col, explode, count, avg, row_number, to_date, regexp_replace, lower, length\n",
    "\n",
    "\n",
    "# Connect to MongoDB\n",
    "client = MongoClient(\"mongodb://localhost:27017/\")\n",
    "db = client[\"group6_bigdata\"]\n",
    "\n",
    "# Drop old collections if they exist\n",
    "db[\"meta\"].drop()\n",
    "db[\"review\"].drop()\n",
    "\n",
    "# === Trim and load only first 1000 businesses ===\n",
    "with open(\"meta-California.json\", \"r\", encoding=\"utf-8\") as f:\n",
    "    meta_data = [json.loads(line) for _, line in zip(range(1000), f)]\n",
    "db[\"meta\"].insert_many(meta_data)\n",
    "print(f\"✅ Inserted {len(meta_data)} meta\")\n",
    "\n",
    "\n",
    "# === Trim and load only first 5000 reviews ===\n",
    "with open(\"review-California_10.json\", \"r\", encoding=\"utf-8\") as f:\n",
    "    review_data = [json.loads(line) for _, line in zip(range(5000), f)]\n",
    "db[\"review\"].insert_many(review_data)\n",
    "print(f\"✅ Inserted {len(review_data)} reviews\")\n",
    "\n"
   ]
  },
  {
   "cell_type": "markdown",
   "id": "ea89483b",
   "metadata": {},
   "source": [
    "## ⚙️ Step 2: Start Spark Session"
   ]
  },
  {
   "cell_type": "code",
   "execution_count": 26,
   "id": "59ffe381",
   "metadata": {},
   "outputs": [],
   "source": [
    "from pyspark.sql import SparkSession\n",
    "spark = SparkSession.builder.appName(\"group6_bigdata\").getOrCreate()"
   ]
  },
  {
   "cell_type": "markdown",
   "id": "1cf88c73",
   "metadata": {},
   "source": [
    "## 📊 Step 3: Load Data from MongoDB via PyMongo"
   ]
  },
  {
   "cell_type": "code",
   "execution_count": 27,
   "id": "16aa0242",
   "metadata": {},
   "outputs": [],
   "source": [
    "# assign typeValue for each feature of meta_dataset\n",
    "\n",
    "from pyspark.sql.types import StructType, StructField, StringType, DoubleType, IntegerType, ArrayType\n",
    "\n",
    "schema_meta = StructType([\n",
    "    StructField(\"name\", StringType(), True),\n",
    "    StructField(\"address\", StringType(), True),\n",
    "    StructField(\"avg_rating\", DoubleType(), True),     \n",
    "    StructField(\"category\", ArrayType(StringType()), True),   \n",
    "    StructField(\"description\", StringType(), True),\n",
    "    StructField(\"gmap_id\", StringType(), True),\n",
    "    StructField(\"hours\", StringType(), True),\n",
    "    StructField(\"latitude\", StringType(), True),\n",
    "    StructField(\"longitude\", StringType(), True),\n",
    "    StructField(\"num_of_reviews\", IntegerType(), True),\n",
    "    StructField(\"price\", DoubleType(), True),\n",
    "    StructField(\"relative_results\", StringType(), True),\n",
    "    StructField(\"state\", StringType(), True),\n",
    "    StructField(\"url\", StringType(), True),\n",
    "\n",
    "])\n",
    "\n",
    "# df_meta = spark.createDataFrame(meta_docs, schema=schema)"
   ]
  },
  {
   "cell_type": "code",
   "execution_count": 28,
   "id": "a8260929",
   "metadata": {},
   "outputs": [],
   "source": [
    "# assign typeValue for each feature of reviews_dataset\n",
    "from pyspark.sql.types import StructType, StructField, StringType, IntegerType, TimestampType\n",
    "\n",
    "# Define schema with the correct type for the 'time' field\n",
    "schema_review = StructType([\n",
    "    StructField(\"gmap_id\", StringType(), True),\n",
    "    StructField(\"name\", StringType(), True),\n",
    "    StructField(\"pics\", StringType(), True),\n",
    "    StructField(\"rating\", IntegerType(), True),\n",
    "    # StructField(\"resp\", StringType(), True),\n",
    "    StructField(\"text\", StringType(), True),\n",
    "    StructField(\"time\", TimestampType(), True),  # Changed to TimestampType\n",
    "    StructField(\"user_id\", StringType(), True)\n",
    "])\n",
    "\n"
   ]
  },
  {
   "cell_type": "code",
   "execution_count": 29,
   "id": "08b2d2ca",
   "metadata": {},
   "outputs": [],
   "source": [
    "#clean data in the case data has multiple types\n",
    "\n",
    "# for meta_dataset\n",
    "def clean_meta_doc(doc):\n",
    "    def to_float(val):\n",
    "        try:\n",
    "            return float(val)\n",
    "        except (TypeError, ValueError):\n",
    "            return None\n",
    "\n",
    "    def to_int(val):\n",
    "        try:\n",
    "            return int(val)\n",
    "        except (TypeError, ValueError):\n",
    "            return None\n",
    "\n",
    "    return {\n",
    "        \"name\": doc.get(\"name\"),\n",
    "        \"address\": doc.get(\"address\"),\n",
    "        \"avg_rating\": to_float(doc.get(\"avg_rating\")),\n",
    "        \"category\": doc.get(\"category\"),\n",
    "        \"description\": doc.get(\"description\"),\n",
    "        \"gmap_id\": doc.get(\"gmap_id\"),\n",
    "        \"hours\": doc.get(\"hours\"),\n",
    "        \"latitude\": doc.get(\"latitude\"),\n",
    "        \"longitude\": doc.get(\"longitude\"),\n",
    "        \"num_of_reviews\": to_int(doc.get(\"num_of_reviews\")),\n",
    "        \"price\": to_float(doc.get(\"price\")),\n",
    "        \"relative_results\": doc.get(\"relative_results\"),\n",
    "        \"state\": doc.get(\"state\"),\n",
    "        \"url\": doc.get(\"url\"),\n",
    "    }\n"
   ]
  },
  {
   "cell_type": "code",
   "execution_count": 30,
   "id": "b51c99a0",
   "metadata": {},
   "outputs": [],
   "source": [
    "# for reviews_dataset\n",
    "from pyspark.sql.functions import from_unixtime\n",
    "\n",
    "# for reviews_dataset\n",
    "def clean_review_doc(doc):\n",
    "    def to_float(val):\n",
    "        try:\n",
    "            return float(val)\n",
    "        except (TypeError, ValueError):\n",
    "            return None\n",
    "\n",
    "    def to_int(val):\n",
    "        try:\n",
    "            return int(val)\n",
    "        except (TypeError, ValueError):\n",
    "            return None\n",
    "    \n",
    "    def to_long(val):\n",
    "        try:\n",
    "            return int(val)  # Convert to int, which should work for long types in PySpark\n",
    "        except (TypeError, ValueError):\n",
    "            return None\n",
    "\n",
    "    # Assuming the time field is in milliseconds and needs conversion to timestamp\n",
    "    def to_timestamp(val):\n",
    "        try:\n",
    "            # Convert Unix timestamp in milliseconds to seconds and then to timestamp\n",
    "            return from_unixtime(val / 1000).cast(\"timestamp\")\n",
    "        except (TypeError, ValueError):\n",
    "            return None\n",
    "\n",
    "    return {\n",
    "        \"gmap_id\": doc.get(\"gmap_id\", None),  # Use None for missing values\n",
    "        \"name\": doc.get(\"name\", None),\n",
    "        \"pics\": doc.get(\"pics\", None),\n",
    "        \"rating\": to_int(doc.get(\"rating\")),\n",
    "        # \"resp\": doc.get(\"resp\", None),\n",
    "        \"text\": doc.get(\"text\", None),\n",
    "        \"time\": to_timestamp(doc.get(\"time\")),  # Convert time to timestamp\n",
    "        \"user_id\": doc.get(\"user_id\", None),\n",
    "    }\n",
    "\n",
    "      \n"
   ]
  },
  {
   "cell_type": "code",
   "execution_count": 31,
   "id": "d5c6d86a",
   "metadata": {},
   "outputs": [
    {
     "name": "stdout",
     "output_type": "stream",
     "text": [
      "+------------+--------------------+----------+-------------------+-----------+--------------------+--------------------+----------+------------+--------------+-----+--------------------+-----------------+--------------------+\n",
      "|        name|             address|avg_rating|           category|description|             gmap_id|               hours|  latitude|   longitude|num_of_reviews|price|    relative_results|            state|                 url|\n",
      "+------------+--------------------+----------+-------------------+-----------+--------------------+--------------------+----------+------------+--------------+-----+--------------------+-----------------+--------------------+\n",
      "|City Textile|City Textile, 300...|       4.5| [Textile exporter]|       NULL|0x80c2c98c0e3c16f...|                NULL|34.0188913|-118.2152898|             6| NULL|[0x80c2c624136ea8...|         Open now|https://www.googl...|\n",
      "|San Soo Dang|San Soo Dang, 761...|       4.4|[Korean restaurant]|       NULL|0x80c2c778e3b73d3...|[[Thursday, 6:30A...|34.0580917|-118.2921295|            18| NULL|[0x80c2c78249aba6...|Open ⋅ Closes 6PM|https://www.googl...|\n",
      "|Nova Fabrics|Nova Fabrics, 220...|       3.3|     [Fabric store]|       NULL|0x80c2c89923b27a4...|[[Thursday, 9AM–5...|34.0236689|-118.2329297|             6| NULL|[0x80c2c881147725...|Open ⋅ Closes 5PM|https://www.googl...|\n",
      "+------------+--------------------+----------+-------------------+-----------+--------------------+--------------------+----------+------------+--------------+-----+--------------------+-----------------+--------------------+\n",
      "only showing top 3 rows\n",
      "\n"
     ]
    },
    {
     "name": "stderr",
     "output_type": "stream",
     "text": [
      "Exception ignored in: <_io.BufferedWriter name=5>\n",
      "Traceback (most recent call last):\n",
      "  File \"/Users/hieph/Documents/BigData/bigData_env/lib/python3.13/site-packages/pyspark/python/lib/pyspark.zip/pyspark/daemon.py\", line 193, in manager\n",
      "BrokenPipeError: [Errno 32] Broken pipe\n"
     ]
    }
   ],
   "source": [
    "meta_docs = list(db[\"meta\"].find({}, {\"_id\": 0}))\n",
    "cleaned_meta_docs = [clean_meta_doc(doc) for doc in meta_docs]\n",
    "df_meta = spark.createDataFrame(cleaned_meta_docs, schema=schema_meta)\n",
    "not_null_categories = df_meta.filter(col(\"category\").isNotNull())\n",
    "not_null_categories.show(3, truncate=True)"
   ]
  },
  {
   "cell_type": "code",
   "execution_count": 32,
   "id": "e78e1bfc",
   "metadata": {},
   "outputs": [
    {
     "name": "stdout",
     "output_type": "stream",
     "text": [
      "+--------------------+-------------+----+------+--------------------+----+--------------------+\n",
      "|             gmap_id|         name|pics|rating|                text|time|             user_id|\n",
      "+--------------------+-------------+----+------+--------------------+----+--------------------+\n",
      "|0x80c2c778e3b73d3...|      Song Ro|NULL|     5|Love there korean...|NULL|10899115226265578...|\n",
      "|0x80c2c778e3b73d3...|  Rafa Robles|NULL|     5|      Good very good|NULL|11129032221979621...|\n",
      "|0x80c2c778e3b73d3...|    David Han|NULL|     4|They make Korean ...|NULL|11264035744961195...|\n",
      "|0x80c2c778e3b73d3...|  Anthony Kim|NULL|     5|Short ribs are ve...|NULL|11744034972382365...|\n",
      "|0x80c2c778e3b73d3...|Mario Marzouk|NULL|     5|Great food and pr...|NULL|10058077083612353...|\n",
      "+--------------------+-------------+----+------+--------------------+----+--------------------+\n",
      "only showing top 5 rows\n",
      "\n"
     ]
    }
   ],
   "source": [
    "from pyspark.sql.functions import col\n",
    "\n",
    "review_docs = list(db[\"review\"].find({}, {\"_id\": 0}))\n",
    "cleaned_review_docs = [clean_review_doc(doc) for doc in review_docs]\n",
    "df_review = spark.createDataFrame(cleaned_review_docs, schema=schema_review)\n",
    "df_review.show(5, truncate=True)"
   ]
  },
  {
   "cell_type": "markdown",
   "id": "ddaf80ee",
   "metadata": {},
   "source": [
    "## 🔎 Step 4: Join and Analyze in Spark"
   ]
  },
  {
   "cell_type": "code",
   "execution_count": 33,
   "id": "7ba1606f",
   "metadata": {},
   "outputs": [
    {
     "name": "stderr",
     "output_type": "stream",
     "text": [
      "Exception ignored in: <_io.BufferedWriter name=5>\n",
      "Traceback (most recent call last):\n",
      "  File \"/Users/hieph/Documents/BigData/bigData_env/lib/python3.13/site-packages/pyspark/python/lib/pyspark.zip/pyspark/daemon.py\", line 193, in manager\n",
      "BrokenPipeError: [Errno 32] Broken pipe\n"
     ]
    },
    {
     "name": "stdout",
     "output_type": "stream",
     "text": [
      "+--------------------+--------------------+----------+-------------------+-----------+--------------------+--------------------+----------+------------+--------------+-----+--------------------+--------------------+--------------------+\n",
      "|                name|             address|avg_rating|           category|description|             gmap_id|               hours|  latitude|   longitude|num_of_reviews|price|    relative_results|               state|                 url|\n",
      "+--------------------+--------------------+----------+-------------------+-----------+--------------------+--------------------+----------+------------+--------------+-----+--------------------+--------------------+--------------------+\n",
      "|        City Textile|City Textile, 300...|       4.5| [Textile exporter]|       NULL|0x80c2c98c0e3c16f...|                NULL|34.0188913|-118.2152898|             6| NULL|[0x80c2c624136ea8...|            Open now|https://www.googl...|\n",
      "|        San Soo Dang|San Soo Dang, 761...|       4.4|[Korean restaurant]|       NULL|0x80c2c778e3b73d3...|[[Thursday, 6:30A...|34.0580917|-118.2921295|            18| NULL|[0x80c2c78249aba6...|   Open ⋅ Closes 6PM|https://www.googl...|\n",
      "|        Nova Fabrics|Nova Fabrics, 220...|       3.3|     [Fabric store]|       NULL|0x80c2c89923b27a4...|[[Thursday, 9AM–5...|34.0236689|-118.2329297|             6| NULL|[0x80c2c881147725...|   Open ⋅ Closes 5PM|https://www.googl...|\n",
      "|    Nobel Textile Co|Nobel Textile Co,...|       4.3|     [Fabric store]|       NULL|0x80c2c632f933b07...|[[Thursday, 9AM–5...|34.0366942|-118.2494208|             7| NULL|[0x80c2c62c496083...|   Open ⋅ Closes 5PM|https://www.googl...|\n",
      "|Matrix Internatio...|Matrix Internatio...|       3.5|     [Fabric store]|       NULL|0x80c2cf163db6bc8...|[[Thursday, 8:30A...|34.0155047|-118.1818394|             6| NULL|[0x80c2cf042a5d95...|Open ⋅ Closes 5:30PM|https://www.googl...|\n",
      "+--------------------+--------------------+----------+-------------------+-----------+--------------------+--------------------+----------+------------+--------------+-----+--------------------+--------------------+--------------------+\n",
      "only showing top 5 rows\n",
      "\n"
     ]
    }
   ],
   "source": [
    "df_meta = df_meta.filter(col(\"category\").isNotNull())\n",
    "df_meta.show(5)"
   ]
  },
  {
   "cell_type": "code",
   "execution_count": 34,
   "id": "4e847936",
   "metadata": {},
   "outputs": [
    {
     "name": "stderr",
     "output_type": "stream",
     "text": [
      "Exception ignored in: <_io.BufferedWriter name=5>\n",
      "Traceback (most recent call last):\n",
      "  File \"/Users/hieph/Documents/BigData/bigData_env/lib/python3.13/site-packages/pyspark/python/lib/pyspark.zip/pyspark/daemon.py\", line 193, in manager\n",
      "BrokenPipeError: [Errno 32] Broken pipe\n"
     ]
    },
    {
     "name": "stdout",
     "output_type": "stream",
     "text": [
      "+--------------------+--------------------+--------------------+----------+--------------+\n",
      "|             gmap_id|       business_name|          categories|avg_rating|num_of_reviews|\n",
      "+--------------------+--------------------+--------------------+----------+--------------+\n",
      "|0x80dc742efd23ae2...|Rockstar Rides Us...|     Used car dealer|       4.8|           528|\n",
      "|0x80dc742efd23ae2...|Rockstar Rides Us...|         Auto broker|       4.8|           528|\n",
      "|0x80dc742efd23ae2...|Rockstar Rides Us...|          Car dealer|       4.8|           528|\n",
      "|0x808fb72290866a8...|     Paradise tattoo|         Tattoo shop|       5.0|           378|\n",
      "|0x80952f4d409f5e5...|TLD Auto Service ...|    Auto repair shop|       5.0|           355|\n",
      "|0x808e33002023b81...|Green USA Cleanin...|House cleaning se...|       4.8|           336|\n",
      "|0x808e33002023b81...|Green USA Cleanin...|Carpet cleaning s...|       4.8|           336|\n",
      "|0x808e33002023b81...|Green USA Cleanin...|Gutter cleaning s...|       4.8|           336|\n",
      "|0x808e33002023b81...|Green USA Cleanin...|  Janitorial service|       4.8|           336|\n",
      "|0x808e33002023b81...|Green USA Cleanin...|Window cleaning s...|       4.8|           336|\n",
      "+--------------------+--------------------+--------------------+----------+--------------+\n",
      "only showing top 10 rows\n",
      "\n",
      "+--------------------+-------------+------+--------------------+\n",
      "|             gmap_id|         name|rating|                text|\n",
      "+--------------------+-------------+------+--------------------+\n",
      "|0x80c2c778e3b73d3...|      Song Ro|     5|Love there korean...|\n",
      "|0x80c2c778e3b73d3...|  Rafa Robles|     5|      Good very good|\n",
      "|0x80c2c778e3b73d3...|    David Han|     4|They make Korean ...|\n",
      "|0x80c2c778e3b73d3...|  Anthony Kim|     5|Short ribs are ve...|\n",
      "|0x80c2c778e3b73d3...|Mario Marzouk|     5|Great food and pr...|\n",
      "|0x80c2c778e3b73d3...|  Ana Salazar|     5|This food is deli...|\n",
      "|0x80c2c778e3b73d3...|  Youngho Yoo|     4|                NULL|\n",
      "|0x80c2c778e3b73d3...|Seungwon Park|     1|                NULL|\n",
      "|0x80c2c778e3b73d3...|     Jung Lee|     5|                NULL|\n",
      "|0x80c2c778e3b73d3...|          Y.M|     5|                NULL|\n",
      "+--------------------+-------------+------+--------------------+\n",
      "only showing top 10 rows\n",
      "\n"
     ]
    }
   ],
   "source": [
    "from pyspark.sql.functions import avg, explode\n",
    "df_meta = df_meta.withColumnRenamed(\"name\", \"business_name\")\n",
    "df_meta_selected = df_meta.select(\n",
    "    \"gmap_id\",\n",
    "    \"business_name\",\n",
    "    \"avg_rating\", \n",
    "    \"category\",\n",
    "    \"num_of_reviews\"\n",
    ")\n",
    "df_exploded = df_meta_selected.withColumn(\"categories\", explode(col(\"category\")))\n",
    "\n",
    "\n",
    "df_meta_joined = df_exploded.select(\"gmap_id\", \"business_name\",\"categories\", \"avg_rating\", \"num_of_reviews\").orderBy(col(\"num_of_reviews\").desc())\n",
    "df_review_joined = df_review.select(\"gmap_id\", \"name\",\"rating\",\"text\")\n",
    "df_meta_joined.show(10)\n",
    "df_review_joined.show(10)"
   ]
  },
  {
   "cell_type": "code",
   "execution_count": 35,
   "id": "4ce9c546",
   "metadata": {},
   "outputs": [
    {
     "name": "stderr",
     "output_type": "stream",
     "text": [
      "Exception ignored in: <_io.BufferedWriter name=5>\n",
      "Traceback (most recent call last):\n",
      "  File \"/Users/hieph/Documents/BigData/bigData_env/lib/python3.13/site-packages/pyspark/python/lib/pyspark.zip/pyspark/daemon.py\", line 193, in manager\n",
      "BrokenPipeError: [Errno 32] Broken pipe\n"
     ]
    },
    {
     "name": "stdout",
     "output_type": "stream",
     "text": [
      "+--------------------+-----------------+---------------+------+\n",
      "|             gmap_id|    business_name|           name|rating|\n",
      "+--------------------+-----------------+---------------+------+\n",
      "|0x80dd33844146872...|HAVEN™ Dispensary|Stephen Arriola|     2|\n",
      "|0x80dd33844146872...|HAVEN™ Dispensary|    Eric Wilson|     5|\n",
      "|0x80dd33844146872...|HAVEN™ Dispensary|    Eva Robbins|     5|\n",
      "|0x80dd33844146872...|HAVEN™ Dispensary|     Wade Beach|     5|\n",
      "|0x80dd33844146872...|HAVEN™ Dispensary| Karen Sandoval|     5|\n",
      "+--------------------+-----------------+---------------+------+\n",
      "only showing top 5 rows\n",
      "\n"
     ]
    }
   ],
   "source": [
    "from pyspark.sql.functions import col\n",
    "df_joined = df_meta_joined.join(df_review_joined, on=\"gmap_id\", how=\"inner\")\n",
    "\n",
    "df_selected = df_joined.select(\n",
    "    \"gmap_id\",\n",
    "    \"business_name\",\n",
    "    \"name\",\n",
    "    \"rating\"\n",
    ")\n",
    "\n",
    "df_selected.show(5, truncate=True)"
   ]
  },
  {
   "cell_type": "code",
   "execution_count": 49,
   "id": "586034ea",
   "metadata": {},
   "outputs": [
    {
     "name": "stdout",
     "output_type": "stream",
     "text": [
      "+--------------------+--------------------+----------+------------+\n",
      "|             gmap_id|       business_name|avg_rating|review_count|\n",
      "+--------------------+--------------------+----------+------------+\n",
      "|0x80c33209633b0f2...|CJ Automotive Repair|       5.0|          84|\n",
      "|0x809b2037e088215...|      The Beauty Bar|       5.0|          12|\n",
      "|0x808f85e5192bd80...|Rossy's Beauty Salon|       5.0|           6|\n",
      "|0x808fb72290866a8...|     Paradise tattoo|       5.0|          17|\n",
      "|0x809cb5c9a8f1bee...|     Ruby's Boutique|       5.0|           7|\n",
      "+--------------------+--------------------+----------+------------+\n",
      "only showing top 5 rows\n",
      "\n"
     ]
    }
   ],
   "source": [
    "from pyspark.sql.functions import avg, count\n",
    "\n",
    "df_avg = df_selected.groupBy(\"gmap_id\", \"business_name\") \\\n",
    "    .agg(\n",
    "        avg(\"rating\").alias(\"avg_rating\"),\n",
    "        count(\"rating\").alias(\"review_count\")\n",
    "    ) \\\n",
    "    .orderBy(\"avg_rating\", ascending=False)\n",
    "df_avg.show(5, truncate=True)"
   ]
  },
  {
   "cell_type": "code",
   "execution_count": 37,
   "id": "4e5ceb22",
   "metadata": {},
   "outputs": [
    {
     "data": {
      "image/png": "[encoded data removed]",
      "text/plain": [
       "<Figure size 1000x600 with 1 Axes>"
      ]
     },
     "metadata": {},
     "output_type": "display_data"
    }
   ],
   "source": [
    "top10 = df_avg.limit(10).collect()\n",
    "\n",
    "import matplotlib.pyplot as plt\n",
    "\n",
    "names = [row[\"business_name\"] for row in top10]\n",
    "ratings = [row[\"avg_rating\"] for row in top10]\n",
    "\n",
    "plt.figure(figsize=(10, 6))\n",
    "plt.barh(names[::-1], ratings[::-1])\n",
    "plt.xlabel(\"Average Rating\")\n",
    "plt.title(\"Top 10 Businesses by Average Rating\")\n",
    "plt.tight_layout()\n",
    "plt.show()"
   ]
  },
  {
   "cell_type": "code",
   "execution_count": 38,
   "id": "87d6c81d",
   "metadata": {},
   "outputs": [],
   "source": [
    "from pyspark.sql.functions import count\n",
    "\n",
    "df_most_reviewed = df_selected.groupBy(\"gmap_id\", \"business_name\") \\\n",
    "    .agg(count(\"rating\").alias(\"review_count\")) \\\n",
    "    .orderBy(\"review_count\", ascending=False)"
   ]
  },
  {
   "cell_type": "code",
   "execution_count": 39,
   "id": "6f3c1361",
   "metadata": {},
   "outputs": [],
   "source": [
    "top10_most_reviewed = df_most_reviewed.limit(10).collect()"
   ]
  },
  {
   "cell_type": "code",
   "execution_count": 40,
   "id": "b68f37fe",
   "metadata": {},
   "outputs": [
    {
     "data": {
      "image/png": "[encoded data removed]",
      "text/plain": [
       "<Figure size 1000x600 with 1 Axes>"
      ]
     },
     "metadata": {},
     "output_type": "display_data"
    }
   ],
   "source": [
    "import matplotlib.pyplot as plt\n",
    "\n",
    "names = [row[\"business_name\"] for row in top10_most_reviewed]\n",
    "counts = [row[\"review_count\"] for row in top10_most_reviewed]\n",
    "\n",
    "plt.figure(figsize=(10, 6))\n",
    "plt.barh(names[::-1], counts[::-1])\n",
    "plt.xlabel(\"Review Count\")\n",
    "plt.title(\"Top 10 Businesses by Number of Reviews\")\n",
    "plt.tight_layout()\n",
    "plt.show()"
   ]
  },
  {
   "cell_type": "code",
   "execution_count": 41,
   "id": "1fa7bc92",
   "metadata": {},
   "outputs": [],
   "source": [
    "from pyspark.sql.functions import when, count\n",
    "\n",
    "df_buckets = df_selected.select(\"rating\").withColumn(\n",
    "    \"rating_bucket\",\n",
    "    when((col(\"rating\") >= 1) & (col(\"rating\") < 2), \"1-2\")\n",
    "    .when((col(\"rating\") >= 2) & (col(\"rating\") < 3), \"2-3\")\n",
    "    .when((col(\"rating\") >= 3) & (col(\"rating\") < 4), \"3-4\")\n",
    "    .when((col(\"rating\") >= 4) & (col(\"rating\") <= 5), \"4-5\")\n",
    "    .otherwise(\"invalid\")\n",
    ")\n",
    "\n",
    "df_bucket_count = df_buckets.groupBy(\"rating_bucket\").agg(count(\"*\").alias(\"count\"))"
   ]
  },
  {
   "cell_type": "code",
   "execution_count": 42,
   "id": "45782ad3",
   "metadata": {},
   "outputs": [
    {
     "data": {
      "image/png": "[encoded data removed]",
      "text/plain": [
       "<Figure size 600x600 with 1 Axes>"
      ]
     },
     "metadata": {},
     "output_type": "display_data"
    }
   ],
   "source": [
    "bucket_data = df_bucket_count.collect()\n",
    "\n",
    "labels = [row[\"rating_bucket\"] for row in bucket_data]\n",
    "sizes = [row[\"count\"] for row in bucket_data]\n",
    "\n",
    "import matplotlib.pyplot as plt\n",
    "\n",
    "plt.figure(figsize=(6, 6))\n",
    "plt.pie(sizes, labels=labels, autopct=\"%1.1f%%\", startangle=140)\n",
    "plt.title(\"Rating Distribution by Bucket\")\n",
    "plt.axis(\"equal\")\n",
    "plt.tight_layout()\n",
    "plt.show()"
   ]
  },
  {
   "cell_type": "markdown",
   "id": "4bc7250d",
   "metadata": {},
   "source": [
    "## 💾 Step 5: Save Back to MongoDB"
   ]
  },
  {
   "cell_type": "code",
   "execution_count": 43,
   "id": "5ed5744a",
   "metadata": {},
   "outputs": [],
   "source": [
    "top10_dicts = [\n",
    "    {\n",
    "        \"gmap_id\": row[\"gmap_id\"],\n",
    "        \"business_name\": row[\"business_name\"],\n",
    "        \"avg_rating\": float(row[\"avg_rating\"]),\n",
    "    }\n",
    "    for row in top10\n",
    "]\n"
   ]
  },
  {
   "cell_type": "code",
   "execution_count": 44,
   "id": "351eed17",
   "metadata": {},
   "outputs": [
    {
     "data": {
      "text/plain": [
       "InsertManyResult([ObjectId('67f8190522cdf447ccae7cce'), ObjectId('67f8190522cdf447ccae7ccf'), ObjectId('67f8190522cdf447ccae7cd0'), ObjectId('67f8190522cdf447ccae7cd1'), ObjectId('67f8190522cdf447ccae7cd2'), ObjectId('67f8190522cdf447ccae7cd3'), ObjectId('67f8190522cdf447ccae7cd4'), ObjectId('67f8190522cdf447ccae7cd5'), ObjectId('67f8190522cdf447ccae7cd6'), ObjectId('67f8190522cdf447ccae7cd7')], acknowledged=True)"
      ]
     },
     "execution_count": 44,
     "metadata": {},
     "output_type": "execute_result"
    }
   ],
   "source": [
    "from pymongo import MongoClient\n",
    "\n",
    "client = MongoClient(\"mongodb://localhost:27017/\")\n",
    "db = client[\"group6_bigdata\"]\n",
    "db[\"top10_avg_rating\"].drop()\n",
    "db[\"top10_avg_rating\"].insert_many(top10_dicts)"
   ]
  },
  {
   "cell_type": "code",
   "execution_count": 45,
   "id": "90c7bed8",
   "metadata": {},
   "outputs": [],
   "source": [
    "top10_dicts = [\n",
    "    {\n",
    "        \"gmap_id\": row[\"gmap_id\"],\n",
    "        \"business_name\": row[\"business_name\"],\n",
    "        \"review_count\": int(row[\"review_count\"]),\n",
    "    }\n",
    "    for row in top10_most_reviewed\n",
    "]\n"
   ]
  },
  {
   "cell_type": "code",
   "execution_count": 46,
   "id": "76a66c89",
   "metadata": {},
   "outputs": [
    {
     "data": {
      "text/plain": [
       "InsertManyResult([ObjectId('67f8190522cdf447ccae7cd9'), ObjectId('67f8190522cdf447ccae7cda'), ObjectId('67f8190522cdf447ccae7cdb'), ObjectId('67f8190522cdf447ccae7cdc'), ObjectId('67f8190522cdf447ccae7cdd'), ObjectId('67f8190522cdf447ccae7cde'), ObjectId('67f8190522cdf447ccae7cdf'), ObjectId('67f8190522cdf447ccae7ce0'), ObjectId('67f8190522cdf447ccae7ce1'), ObjectId('67f8190522cdf447ccae7ce2')], acknowledged=True)"
      ]
     },
     "execution_count": 46,
     "metadata": {},
     "output_type": "execute_result"
    }
   ],
   "source": [
    "from pymongo import MongoClient\n",
    "\n",
    "client = MongoClient(\"mongodb://localhost:27017/\")\n",
    "db = client[\"group6_bigdata\"]\n",
    "db[\"top10_review_count\"].drop()\n",
    "db[\"top10_review_count\"].insert_many(top10_dicts)"
   ]
  },
  {
   "cell_type": "code",
   "execution_count": 47,
   "id": "b34f0cba",
   "metadata": {},
   "outputs": [],
   "source": [
    "docs = [\n",
    "    {\n",
    "        \"bucket\": row[\"rating_bucket\"],\n",
    "        \"count\": int(row[\"count\"]),\n",
    "    }\n",
    "    for row in bucket_data\n",
    "]"
   ]
  },
  {
   "cell_type": "code",
   "execution_count": 48,
   "id": "ae4deb85",
   "metadata": {},
   "outputs": [
    {
     "data": {
      "text/plain": [
       "InsertManyResult([ObjectId('67f8190522cdf447ccae7ce3'), ObjectId('67f8190522cdf447ccae7ce4'), ObjectId('67f8190522cdf447ccae7ce5'), ObjectId('67f8190522cdf447ccae7ce6')], acknowledged=True)"
      ]
     },
     "execution_count": 48,
     "metadata": {},
     "output_type": "execute_result"
    }
   ],
   "source": [
    "db[\"rating_distribution\"].drop()\n",
    "db[\"rating_distribution\"].insert_many(docs)"
   ]
  }
 ],
 "metadata": {
  "kernelspec": {
   "display_name": "bigData_env",
   "language": "python",
   "name": "python3"
  },
  "language_info": {
   "codemirror_mode": {
    "name": "ipython",
    "version": 3
   },
   "file_extension": ".py",
   "mimetype": "text/x-python",
   "name": "python",
   "nbconvert_exporter": "python",
   "pygments_lexer": "ipython3",
   "version": "3.13.0"
  }
 },
 "nbformat": 4,
 "nbformat_minor": 5
}
